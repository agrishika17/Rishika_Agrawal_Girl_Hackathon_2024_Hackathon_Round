{
 "cells": [
  {
   "cell_type": "code",
   "execution_count": null,
   "metadata": {},
   "outputs": [],
   "source": [
    "# This code is used to fetch the Band 4 and Band 5 images from the Landsat 8 COllection 2\n",
    "# NDVI is calculated with the help of the function defined as variable NDVI and aldo mean_ndvi is calculated. "
   ]
  },
  {
   "cell_type": "code",
   "execution_count": null,
   "metadata": {},
   "outputs": [],
   "source": [
    "# This geometry data is for the year 2023 from feb 2023 to may 2023 since these are the months during which there is high probablity of wildfires\n",
    "\n",
    "var geometry = \n",
    "    /* color: #d63000 */\n",
    "    /* shown: false */\n",
    "    /* displayProperties: [\n",
    "      {\n",
    "        \"type\": \"rectangle\"\n",
    "      },\n",
    "      {\n",
    "        \"type\": \"marker\"\n",
    "      }\n",
    "    ] */\n",
    "    ee.Geometry({\n",
    "      \"type\": \"GeometryCollection\",\n",
    "      \"geometries\": [\n",
    "        {\n",
    "          \"type\": \"Polygon\",\n",
    "          \"coordinates\": [\n",
    "            [\n",
    "              [\n",
    "                83.16748575665697,\n",
    "                24.670180959903632\n",
    "              ],\n",
    "              [\n",
    "                83.16748575665697,\n",
    "                22.383806067074545\n",
    "              ],\n",
    "              [\n",
    "                88.13330606915697,\n",
    "                22.383806067074545\n",
    "              ],\n",
    "              [\n",
    "                88.13330606915697,\n",
    "                24.670180959903632\n",
    "              ]\n",
    "            ]\n",
    "          ],\n",
    "          \"geodesic\": false,\n",
    "          \"evenOdd\": true\n",
    "        },\n",
    "        {\n",
    "          \"type\": \"Point\",\n",
    "          \"coordinates\": [\n",
    "            84.01545149493751,\n",
    "            24.34284084535619\n",
    "          ]\n",
    "        }\n",
    "      ],\n",
    "      \"coordinates\": []\n",
    "    }),\n",
    "    imageVisParam = {\"opacity\":1,\"bands\":[\"NDVI\"],\"min\":-0.2956877052783966,\"max\":0.7134324908256531,\"palette\":[\"ff3808\",\"ff7b1a\",\"ffe72a\",\"72ff1e\",\"4d8755\"]},\n",
    "    imageVisParam2 = {\"opacity\":1,\"bands\":[\"NDVI\"],\"min\":-0.16418448090553284,\"max\":0.7415085434913635,\"palette\":[\"ff3100\",\"ff7f20\",\"faff3d\",\"65ff28\",\"21a60a\"]};"
   ]
  },
  {
   "cell_type": "code",
   "execution_count": null,
   "metadata": {},
   "outputs": [],
   "source": [
    "var image = ee.ImageCollection(\"LANDSAT/LC08/C02/T1_TOA\")\n",
    ".filterDate('2023-02-01','2023-05-31')\n",
    ".filterBounds(geometry)\n",
    "\n",
    "Map.addLayer(image,{},'image')\n",
    "\n",
    "//create ndvi index function\n",
    "var NDVI = function(image) {\n",
    "  return image.expression(\n",
    "    '(NIR-RED)/(NIR+RED)',\n",
    "    {\n",
    "    'NIR': image.select('B5'),\n",
    "    'RED': image.select('B4'),\n",
    "    }).rename('NDVI').copyProperties(image,image.propertyNames());\n",
    "};\n",
    "\n",
    "//calculate the NDVI for each image\n",
    "var NDVI_2023=image.map(NDVI)\n",
    "Map.addLayer(NDVI_2023,imageVisParam2,'NDVI')\n",
    "\n",
    "var mean_ndvi = NDVI_2023.mean()\n",
    "\n",
    "Map.addLayer(mean_ndvi,imageVisParam2,'mean_ndvi')"
   ]
  },
  {
   "cell_type": "code",
   "execution_count": null,
   "metadata": {},
   "outputs": [],
   "source": [
    "# The above code will run on Google Earth Engine Code Editor and user need to authentucate and sign up to the site to access the code\n",
    "# Below is the link for the code editor of this code. Also this code has geometry selected for a particular region of jharkhand and will show results for that area when it is run\n",
    "# https://code.earthengine.google.com/5000efc78790babe8974970ac65a82a6\n",
    "#  This code can be run on jupyter notebook as well only after importing ee and geemap and after proper authentication to it as well along with certain changes in the geometry var "
   ]
  },
  {
   "cell_type": "code",
   "execution_count": null,
   "metadata": {},
   "outputs": [],
   "source": []
  }
 ],
 "metadata": {
  "language_info": {
   "name": "python"
  }
 },
 "nbformat": 4,
 "nbformat_minor": 2
}
